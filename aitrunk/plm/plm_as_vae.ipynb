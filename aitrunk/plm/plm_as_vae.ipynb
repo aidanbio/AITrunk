{
 "cells": [
  {
   "cell_type": "markdown",
   "source": [
    "# How to use protein language model as a variational autoencoder for protein sequences"
   ],
   "metadata": {
    "collapsed": false
   }
  },
  {
   "cell_type": "markdown",
   "source": [
    "# Global Env"
   ],
   "metadata": {
    "collapsed": false
   }
  },
  {
   "cell_type": "code",
   "execution_count": 7,
   "outputs": [
    {
     "name": "stdout",
     "output_type": "stream",
     "text": [
      "/data/huggingface\r\n"
     ]
    }
   ],
   "source": [
    "import torch\n",
    "!echo $HF_DATASETS_CACHE"
   ],
   "metadata": {
    "collapsed": false,
    "ExecuteTime": {
     "end_time": "2023-08-13T05:34:59.754079100Z",
     "start_time": "2023-08-13T05:34:59.557236152Z"
    }
   }
  },
  {
   "cell_type": "markdown",
   "source": [
    "## ESM as a VAE"
   ],
   "metadata": {
    "collapsed": false
   }
  },
  {
   "cell_type": "code",
   "execution_count": 47,
   "outputs": [
    {
     "data": {
      "text/plain": "Downloading (…)lve/main/config.json:   0%|          | 0.00/775 [00:00<?, ?B/s]",
      "application/vnd.jupyter.widget-view+json": {
       "version_major": 2,
       "version_minor": 0,
       "model_id": "00d257a7ecdc4371a114a9bbdaa41279"
      }
     },
     "metadata": {},
     "output_type": "display_data"
    },
    {
     "data": {
      "text/plain": "Downloading model.safetensors:   0%|          | 0.00/31.4M [00:00<?, ?B/s]",
      "application/vnd.jupyter.widget-view+json": {
       "version_major": 2,
       "version_minor": 0,
       "model_id": "cea006b3db7c4f739dfcfdf6ac358342"
      }
     },
     "metadata": {},
     "output_type": "display_data"
    },
    {
     "data": {
      "text/plain": "Downloading (…)okenizer_config.json:   0%|          | 0.00/95.0 [00:00<?, ?B/s]",
      "application/vnd.jupyter.widget-view+json": {
       "version_major": 2,
       "version_minor": 0,
       "model_id": "455df997bd3745058f8f45e3839d5d0f"
      }
     },
     "metadata": {},
     "output_type": "display_data"
    },
    {
     "data": {
      "text/plain": "Downloading (…)solve/main/vocab.txt:   0%|          | 0.00/93.0 [00:00<?, ?B/s]",
      "application/vnd.jupyter.widget-view+json": {
       "version_major": 2,
       "version_minor": 0,
       "model_id": "a017c57b30164671ae80859a608dfdc9"
      }
     },
     "metadata": {},
     "output_type": "display_data"
    },
    {
     "data": {
      "text/plain": "Downloading (…)cial_tokens_map.json:   0%|          | 0.00/125 [00:00<?, ?B/s]",
      "application/vnd.jupyter.widget-view+json": {
       "version_major": 2,
       "version_minor": 0,
       "model_id": "4cb59f1dc02e43cdb9db485b11e07d95"
      }
     },
     "metadata": {},
     "output_type": "display_data"
    }
   ],
   "source": [
    "from transformers import AutoTokenizer, AutoModelForMaskedLM\n",
    "esm_id = 'facebook/esm2_t6_8M_UR50D'\n",
    "esm = AutoModelForMaskedLM.from_pretrained(esm_id)\n",
    "tokenizer = AutoTokenizer.from_pretrained(esm_id)"
   ],
   "metadata": {
    "collapsed": false,
    "ExecuteTime": {
     "end_time": "2023-08-14T04:38:47.676936171Z",
     "start_time": "2023-08-14T04:38:40.384739988Z"
    }
   }
  },
  {
   "cell_type": "code",
   "execution_count": 53,
   "outputs": [
    {
     "name": "stdout",
     "output_type": "stream",
     "text": [
      "torch.Size([3, 42, 33])\n",
      "torch.Size([3, 20, 42, 42])\n",
      "torch.Size([3, 42, 320])\n"
     ]
    }
   ],
   "source": [
    "seqs = ['MKTVRQERLKSIVRILERSKEPVSGAQLAEELSVSRQVIV',\n",
    "        'KALTARQQEVFDLIRDHISQTGMPPTRAEIAQRLGFRSPN',\n",
    "        'KALTARQQEVFDLIRD<mask>ISQTGMPPTRAEIAQRLG']\n",
    "result = tokenizer(seqs, truncation=True, padding=True, return_tensors='pt')\n",
    "outputs = esm(input_ids=result['input_ids'], output_attentions=True, output_hidden_states=True)\n",
    "print(outputs.logits.shape)\n",
    "print(outputs.attentions[0].shape)\n",
    "print(outputs.hidden_states[0].shape)"
   ],
   "metadata": {
    "collapsed": false,
    "ExecuteTime": {
     "end_time": "2023-08-14T04:40:20.504360603Z",
     "start_time": "2023-08-14T04:40:20.448662777Z"
    }
   }
  },
  {
   "cell_type": "code",
   "execution_count": 56,
   "outputs": [
    {
     "name": "stdout",
     "output_type": "stream",
     "text": [
      "KALTARQQEVFDLIRD<mask>ISQTGMPPTRAEIAQRLG\n",
      "MALTARQQEVFDLIRDGISQTGMPPTRAEIAQRLGVGGRL\n"
     ]
    }
   ],
   "source": [
    "import torch\n",
    "\n",
    "pred = torch.argmax(outputs.logits, dim=2)\n",
    "pred = tokenizer.convert_ids_to_tokens(pred[2])[1:-1]\n",
    "print(seqs[2])\n",
    "print(''.join(pred))"
   ],
   "metadata": {
    "collapsed": false,
    "ExecuteTime": {
     "end_time": "2023-08-14T04:46:35.869186260Z",
     "start_time": "2023-08-14T04:46:35.867012748Z"
    }
   }
  }
 ],
 "metadata": {
  "kernelspec": {
   "display_name": "Python 3",
   "language": "python",
   "name": "python3"
  },
  "language_info": {
   "codemirror_mode": {
    "name": "ipython",
    "version": 2
   },
   "file_extension": ".py",
   "mimetype": "text/x-python",
   "name": "python",
   "nbconvert_exporter": "python",
   "pygments_lexer": "ipython2",
   "version": "2.7.6"
  }
 },
 "nbformat": 4,
 "nbformat_minor": 0
}
