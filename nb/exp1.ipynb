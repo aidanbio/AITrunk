{
 "cells": [
  {
   "cell_type": "code",
   "execution_count": 1,
   "outputs": [
    {
     "name": "stdout",
     "output_type": "stream",
     "text": [
      "x_dim: 784, h_dim: 400, z_dim: 10\n",
      "device: cuda\n"
     ]
    }
   ],
   "source": [
    "import torch\n",
    "from torch.utils.data import DataLoader\n",
    "from torchvision import datasets,transforms\n",
    "\n",
    "img_size = 28\n",
    "n_channels = 1\n",
    "x_dim = img_size * img_size * n_channels\n",
    "h_dim = 400\n",
    "z_dim = 10\n",
    "\n",
    "print(f'x_dim: {x_dim}, h_dim: {h_dim}, z_dim: {z_dim}')\n",
    "\n",
    "device = torch.device('cuda' if torch.cuda.is_available() else 'cpu')\n",
    "print(f'device: {device}')\n",
    "\n",
    "batch_size = 128\n",
    "datadir = '../data'\n",
    "transform = transforms.Compose([\n",
    "            transforms.ToTensor()\n",
    "            ])\n",
    "\n",
    "train = datasets.MNIST(root=datadir, train=True, transform=transform, download=True)\n",
    "test = datasets.MNIST(root=datadir, train=False, transform=transform, download=True)\n",
    "\n",
    "train_dataloader = torch.utils.data.DataLoader(train, batch_size=batch_size, shuffle=True)\n",
    "test_dataloader = torch.utils.data.DataLoader(test, batch_size=batch_size, shuffle=False)"
   ],
   "metadata": {
    "collapsed": false
   }
  },
  {
   "cell_type": "code",
   "execution_count": 2,
   "outputs": [
    {
     "name": "stderr",
     "output_type": "stream",
     "text": [
      "Train phase of epoch 1: 100%|██████████| 469/469 [00:02<00:00, 171.74batch/s, reconst_loss=1.69e+4, kl_div=670, loss=1.76e+4]    \n"
     ]
    },
    {
     "name": "stdout",
     "output_type": "stream",
     "text": [
      "Average train loss in epoch 1: 25847.0622\n"
     ]
    },
    {
     "name": "stderr",
     "output_type": "stream",
     "text": [
      "Test phase of epoch 1: 100%|██████████| 79/79 [00:00<00:00, 283.00batch/s, reconst_loss=2.93e+3, kl_div=122, loss=3.05e+3]    \n"
     ]
    },
    {
     "name": "stdout",
     "output_type": "stream",
     "text": [
      "Average test loss in epoch 1: 23120.9199\n"
     ]
    },
    {
     "name": "stderr",
     "output_type": "stream",
     "text": [
      "Train phase of epoch 2: 100%|██████████| 469/469 [00:02<00:00, 217.30batch/s, reconst_loss=1.61e+4, kl_div=915, loss=1.7e+4]     \n"
     ]
    },
    {
     "name": "stdout",
     "output_type": "stream",
     "text": [
      "Average train loss in epoch 2: 23168.7434\n"
     ]
    },
    {
     "name": "stderr",
     "output_type": "stream",
     "text": [
      "Test phase of epoch 2: 100%|██████████| 79/79 [00:00<00:00, 282.15batch/s, reconst_loss=2.61e+3, kl_div=171, loss=2.79e+3]    \n"
     ]
    },
    {
     "name": "stdout",
     "output_type": "stream",
     "text": [
      "Average test loss in epoch 2: 22389.8757\n"
     ]
    },
    {
     "name": "stderr",
     "output_type": "stream",
     "text": [
      "Train phase of epoch 3: 100%|██████████| 469/469 [00:02<00:00, 215.31batch/s, reconst_loss=1.62e+4, kl_div=979, loss=1.72e+4]    \n"
     ]
    },
    {
     "name": "stdout",
     "output_type": "stream",
     "text": [
      "Average train loss in epoch 3: 22709.8802\n"
     ]
    },
    {
     "name": "stderr",
     "output_type": "stream",
     "text": [
      "Test phase of epoch 3: 100%|██████████| 79/79 [00:00<00:00, 269.97batch/s, reconst_loss=2.6e+3, kl_div=187, loss=2.79e+3]     \n"
     ]
    },
    {
     "name": "stdout",
     "output_type": "stream",
     "text": [
      "Average test loss in epoch 3: 22052.3851\n"
     ]
    },
    {
     "name": "stderr",
     "output_type": "stream",
     "text": [
      "Train phase of epoch 4: 100%|██████████| 469/469 [00:02<00:00, 217.62batch/s, reconst_loss=1.58e+4, kl_div=1.08e+3, loss=1.69e+4]\n"
     ]
    },
    {
     "name": "stdout",
     "output_type": "stream",
     "text": [
      "Average train loss in epoch 4: 22492.7827\n"
     ]
    },
    {
     "name": "stderr",
     "output_type": "stream",
     "text": [
      "Test phase of epoch 4: 100%|██████████| 79/79 [00:00<00:00, 281.06batch/s, reconst_loss=2.54e+3, kl_div=184, loss=2.72e+3]    \n"
     ]
    },
    {
     "name": "stdout",
     "output_type": "stream",
     "text": [
      "Average test loss in epoch 4: 21860.9436\n"
     ]
    },
    {
     "name": "stderr",
     "output_type": "stream",
     "text": [
      "Train phase of epoch 5: 100%|██████████| 469/469 [00:02<00:00, 222.78batch/s, reconst_loss=1.47e+4, kl_div=1.26e+3, loss=1.6e+4] \n"
     ]
    },
    {
     "name": "stdout",
     "output_type": "stream",
     "text": [
      "Average train loss in epoch 5: 22318.3765\n"
     ]
    },
    {
     "name": "stderr",
     "output_type": "stream",
     "text": [
      "Test phase of epoch 5: 100%|██████████| 79/79 [00:00<00:00, 279.87batch/s, reconst_loss=2.42e+3, kl_div=213, loss=2.63e+3]    \n"
     ]
    },
    {
     "name": "stdout",
     "output_type": "stream",
     "text": [
      "Average test loss in epoch 5: 21691.7863\n"
     ]
    },
    {
     "name": "stderr",
     "output_type": "stream",
     "text": [
      "Train phase of epoch 6: 100%|██████████| 469/469 [00:02<00:00, 217.60batch/s, reconst_loss=1.54e+4, kl_div=1.35e+3, loss=1.67e+4]\n"
     ]
    },
    {
     "name": "stdout",
     "output_type": "stream",
     "text": [
      "Average train loss in epoch 6: 22247.3814\n"
     ]
    },
    {
     "name": "stderr",
     "output_type": "stream",
     "text": [
      "Test phase of epoch 6: 100%|██████████| 79/79 [00:00<00:00, 279.91batch/s, reconst_loss=2.43e+3, kl_div=202, loss=2.63e+3]    \n"
     ]
    },
    {
     "name": "stdout",
     "output_type": "stream",
     "text": [
      "Average test loss in epoch 6: 21637.3884\n"
     ]
    },
    {
     "name": "stderr",
     "output_type": "stream",
     "text": [
      "Train phase of epoch 7: 100%|██████████| 469/469 [00:02<00:00, 205.10batch/s, reconst_loss=1.57e+4, kl_div=1.28e+3, loss=1.7e+4] \n"
     ]
    },
    {
     "name": "stdout",
     "output_type": "stream",
     "text": [
      "Average train loss in epoch 7: 22157.2152\n"
     ]
    },
    {
     "name": "stderr",
     "output_type": "stream",
     "text": [
      "Test phase of epoch 7: 100%|██████████| 79/79 [00:00<00:00, 269.18batch/s, reconst_loss=2.54e+3, kl_div=212, loss=2.75e+3]    \n"
     ]
    },
    {
     "name": "stdout",
     "output_type": "stream",
     "text": [
      "Average test loss in epoch 7: 21604.1641\n"
     ]
    },
    {
     "name": "stderr",
     "output_type": "stream",
     "text": [
      "Train phase of epoch 8: 100%|██████████| 469/469 [00:02<00:00, 206.01batch/s, reconst_loss=1.55e+4, kl_div=1.36e+3, loss=1.69e+4]\n"
     ]
    },
    {
     "name": "stdout",
     "output_type": "stream",
     "text": [
      "Average train loss in epoch 8: 22123.0903\n"
     ]
    },
    {
     "name": "stderr",
     "output_type": "stream",
     "text": [
      "Test phase of epoch 8: 100%|██████████| 79/79 [00:00<00:00, 264.70batch/s, reconst_loss=2.62e+3, kl_div=232, loss=2.85e+3]    \n"
     ]
    },
    {
     "name": "stdout",
     "output_type": "stream",
     "text": [
      "Average test loss in epoch 8: 21496.4417\n"
     ]
    },
    {
     "name": "stderr",
     "output_type": "stream",
     "text": [
      "Train phase of epoch 9: 100%|██████████| 469/469 [00:02<00:00, 202.19batch/s, reconst_loss=1.55e+4, kl_div=1.21e+3, loss=1.67e+4]\n"
     ]
    },
    {
     "name": "stdout",
     "output_type": "stream",
     "text": [
      "Average train loss in epoch 9: 22079.8428\n"
     ]
    },
    {
     "name": "stderr",
     "output_type": "stream",
     "text": [
      "Test phase of epoch 9: 100%|██████████| 79/79 [00:00<00:00, 255.10batch/s, reconst_loss=2.49e+3, kl_div=208, loss=2.7e+3]     \n"
     ]
    },
    {
     "name": "stdout",
     "output_type": "stream",
     "text": [
      "Average test loss in epoch 9: 21597.5264\n"
     ]
    },
    {
     "name": "stderr",
     "output_type": "stream",
     "text": [
      "Train phase of epoch 10: 100%|██████████| 469/469 [00:02<00:00, 222.58batch/s, reconst_loss=1.57e+4, kl_div=1.31e+3, loss=1.7e+4] \n"
     ]
    },
    {
     "name": "stdout",
     "output_type": "stream",
     "text": [
      "Average train loss in epoch 10: 22045.6340\n"
     ]
    },
    {
     "name": "stderr",
     "output_type": "stream",
     "text": [
      "Test phase of epoch 10: 100%|██████████| 79/79 [00:00<00:00, 278.78batch/s, reconst_loss=2.44e+3, kl_div=219, loss=2.66e+3]    \n"
     ]
    },
    {
     "name": "stdout",
     "output_type": "stream",
     "text": [
      "Average test loss in epoch 10: 21534.8825\n"
     ]
    },
    {
     "name": "stderr",
     "output_type": "stream",
     "text": [
      "Train phase of epoch 11: 100%|██████████| 469/469 [00:02<00:00, 220.27batch/s, reconst_loss=1.55e+4, kl_div=1.23e+3, loss=1.67e+4]\n"
     ]
    },
    {
     "name": "stdout",
     "output_type": "stream",
     "text": [
      "Average train loss in epoch 11: 22031.5389\n"
     ]
    },
    {
     "name": "stderr",
     "output_type": "stream",
     "text": [
      "Test phase of epoch 11: 100%|██████████| 79/79 [00:00<00:00, 283.56batch/s, reconst_loss=2.44e+3, kl_div=214, loss=2.66e+3]    \n"
     ]
    },
    {
     "name": "stdout",
     "output_type": "stream",
     "text": [
      "Average test loss in epoch 11: 21437.4926\n"
     ]
    },
    {
     "name": "stderr",
     "output_type": "stream",
     "text": [
      "Train phase of epoch 12: 100%|██████████| 469/469 [00:02<00:00, 215.42batch/s, reconst_loss=1.49e+4, kl_div=1.26e+3, loss=1.62e+4]\n"
     ]
    },
    {
     "name": "stdout",
     "output_type": "stream",
     "text": [
      "Average train loss in epoch 12: 22016.1396\n"
     ]
    },
    {
     "name": "stderr",
     "output_type": "stream",
     "text": [
      "Test phase of epoch 12: 100%|██████████| 79/79 [00:00<00:00, 278.07batch/s, reconst_loss=2.45e+3, kl_div=217, loss=2.66e+3]    \n"
     ]
    },
    {
     "name": "stdout",
     "output_type": "stream",
     "text": [
      "Average test loss in epoch 12: 21454.9170\n"
     ]
    },
    {
     "name": "stderr",
     "output_type": "stream",
     "text": [
      "Train phase of epoch 13: 100%|██████████| 469/469 [00:02<00:00, 222.89batch/s, reconst_loss=1.51e+4, kl_div=1.23e+3, loss=1.64e+4]\n"
     ]
    },
    {
     "name": "stdout",
     "output_type": "stream",
     "text": [
      "Average train loss in epoch 13: 21999.0358\n"
     ]
    },
    {
     "name": "stderr",
     "output_type": "stream",
     "text": [
      "Test phase of epoch 13: 100%|██████████| 79/79 [00:00<00:00, 282.15batch/s, reconst_loss=2.32e+3, kl_div=217, loss=2.54e+3]    \n"
     ]
    },
    {
     "name": "stdout",
     "output_type": "stream",
     "text": [
      "Average test loss in epoch 13: 21415.3275\n"
     ]
    },
    {
     "name": "stderr",
     "output_type": "stream",
     "text": [
      "Train phase of epoch 14: 100%|██████████| 469/469 [00:02<00:00, 223.75batch/s, reconst_loss=1.49e+4, kl_div=1.48e+3, loss=1.64e+4]\n"
     ]
    },
    {
     "name": "stdout",
     "output_type": "stream",
     "text": [
      "Average train loss in epoch 14: 21973.1354\n"
     ]
    },
    {
     "name": "stderr",
     "output_type": "stream",
     "text": [
      "Test phase of epoch 14: 100%|██████████| 79/79 [00:00<00:00, 280.13batch/s, reconst_loss=2.47e+3, kl_div=217, loss=2.69e+3]    \n"
     ]
    },
    {
     "name": "stdout",
     "output_type": "stream",
     "text": [
      "Average test loss in epoch 14: 21450.2136\n"
     ]
    },
    {
     "name": "stderr",
     "output_type": "stream",
     "text": [
      "Train phase of epoch 15: 100%|██████████| 469/469 [00:02<00:00, 222.44batch/s, reconst_loss=1.56e+4, kl_div=1.44e+3, loss=1.7e+4] \n"
     ]
    },
    {
     "name": "stdout",
     "output_type": "stream",
     "text": [
      "Average train loss in epoch 15: 21963.9526\n"
     ]
    },
    {
     "name": "stderr",
     "output_type": "stream",
     "text": [
      "Test phase of epoch 15: 100%|██████████| 79/79 [00:00<00:00, 282.62batch/s, reconst_loss=2.41e+3, kl_div=228, loss=2.64e+3]    \n"
     ]
    },
    {
     "name": "stdout",
     "output_type": "stream",
     "text": [
      "Average test loss in epoch 15: 21401.1112\n"
     ]
    },
    {
     "name": "stderr",
     "output_type": "stream",
     "text": [
      "Train phase of epoch 16: 100%|██████████| 469/469 [00:02<00:00, 207.58batch/s, reconst_loss=1.52e+4, kl_div=1.44e+3, loss=1.67e+4]\n"
     ]
    },
    {
     "name": "stdout",
     "output_type": "stream",
     "text": [
      "Average train loss in epoch 16: 21926.7852\n"
     ]
    },
    {
     "name": "stderr",
     "output_type": "stream",
     "text": [
      "Test phase of epoch 16: 100%|██████████| 79/79 [00:00<00:00, 282.24batch/s, reconst_loss=2.43e+3, kl_div=236, loss=2.67e+3]    \n"
     ]
    },
    {
     "name": "stdout",
     "output_type": "stream",
     "text": [
      "Average test loss in epoch 16: 21386.9545\n"
     ]
    },
    {
     "name": "stderr",
     "output_type": "stream",
     "text": [
      "Train phase of epoch 17: 100%|██████████| 469/469 [00:02<00:00, 213.77batch/s, reconst_loss=1.53e+4, kl_div=1.39e+3, loss=1.67e+4]\n"
     ]
    },
    {
     "name": "stdout",
     "output_type": "stream",
     "text": [
      "Average train loss in epoch 17: 21924.3694\n"
     ]
    },
    {
     "name": "stderr",
     "output_type": "stream",
     "text": [
      "Test phase of epoch 17: 100%|██████████| 79/79 [00:00<00:00, 287.61batch/s, reconst_loss=2.32e+3, kl_div=233, loss=2.55e+3]    \n"
     ]
    },
    {
     "name": "stdout",
     "output_type": "stream",
     "text": [
      "Average test loss in epoch 17: 21366.5620\n"
     ]
    },
    {
     "name": "stderr",
     "output_type": "stream",
     "text": [
      "Train phase of epoch 18: 100%|██████████| 469/469 [00:02<00:00, 223.78batch/s, reconst_loss=1.46e+4, kl_div=1.38e+3, loss=1.6e+4] \n"
     ]
    },
    {
     "name": "stdout",
     "output_type": "stream",
     "text": [
      "Average train loss in epoch 18: 21919.2460\n"
     ]
    },
    {
     "name": "stderr",
     "output_type": "stream",
     "text": [
      "Test phase of epoch 18: 100%|██████████| 79/79 [00:00<00:00, 277.54batch/s, reconst_loss=2.38e+3, kl_div=231, loss=2.61e+3]    \n"
     ]
    },
    {
     "name": "stdout",
     "output_type": "stream",
     "text": [
      "Average test loss in epoch 18: 21375.5000\n"
     ]
    },
    {
     "name": "stderr",
     "output_type": "stream",
     "text": [
      "Train phase of epoch 19: 100%|██████████| 469/469 [00:02<00:00, 203.81batch/s, reconst_loss=1.5e+4, kl_div=1.41e+3, loss=1.64e+4] \n"
     ]
    },
    {
     "name": "stdout",
     "output_type": "stream",
     "text": [
      "Average train loss in epoch 19: 21892.4290\n"
     ]
    },
    {
     "name": "stderr",
     "output_type": "stream",
     "text": [
      "Test phase of epoch 19: 100%|██████████| 79/79 [00:00<00:00, 228.14batch/s, reconst_loss=2.44e+3, kl_div=238, loss=2.68e+3]    \n"
     ]
    },
    {
     "name": "stdout",
     "output_type": "stream",
     "text": [
      "Average test loss in epoch 19: 21317.5509\n"
     ]
    },
    {
     "name": "stderr",
     "output_type": "stream",
     "text": [
      "Train phase of epoch 20: 100%|██████████| 469/469 [00:02<00:00, 221.15batch/s, reconst_loss=1.44e+4, kl_div=1.64e+3, loss=1.61e+4]\n"
     ]
    },
    {
     "name": "stdout",
     "output_type": "stream",
     "text": [
      "Average train loss in epoch 20: 21882.5916\n"
     ]
    },
    {
     "name": "stderr",
     "output_type": "stream",
     "text": [
      "Test phase of epoch 20: 100%|██████████| 79/79 [00:00<00:00, 267.27batch/s, reconst_loss=2.42e+3, kl_div=213, loss=2.63e+3]    "
     ]
    },
    {
     "name": "stdout",
     "output_type": "stream",
     "text": [
      "Average test loss in epoch 20: 21322.4300\n"
     ]
    },
    {
     "name": "stderr",
     "output_type": "stream",
     "text": [
      "\n"
     ]
    }
   ],
   "source": [
    "from aistudy.vae import VAE\n",
    "from tqdm import tqdm\n",
    "import torch.nn.functional as F\n",
    "from collections import OrderedDict\n",
    "\n",
    "vae = VAE(x_dim, h_dim, z_dim).to(device)\n",
    "\n",
    "# print(vae)\n",
    "optimizer = torch.optim.Adam(vae.parameters())\n",
    "n_epochs = 20\n",
    "\n",
    "for epoch in range(n_epochs):\n",
    "    # Train phase\n",
    "    vae.train()\n",
    "    train_loss = 0\n",
    "    with tqdm(train_dataloader, unit=\"batch\") as tepoch:\n",
    "        for i, (x, _) in enumerate(tepoch):\n",
    "            tepoch.set_description(f\"Train phase of epoch {epoch+1}\")\n",
    "            # forward\n",
    "            x = x.view(-1, x_dim)\n",
    "            x = x.to(device)\n",
    "            x_reconst, mu, logvar = vae(x)\n",
    "            # Compute the reconstruction loss and the regularization term, KL divergence, which is q(x|z) || p(z)\n",
    "            reconst_loss = F.binary_cross_entropy(x_reconst, x, reduction='sum')\n",
    "            kl_div = 0.5 * torch.sum(mu.pow(2) + logvar.exp() - logvar - 1)\n",
    "            loss = reconst_loss + kl_div\n",
    "            tepoch.set_postfix(OrderedDict({\n",
    "                'reconst_loss': reconst_loss.item(),\n",
    "                'kl_div': kl_div.item(),\n",
    "                'loss': loss.item()\n",
    "            }))\n",
    "\n",
    "            # backward\n",
    "            optimizer.zero_grad()\n",
    "            loss.backward()\n",
    "            optimizer.step()\n",
    "            train_loss += loss.item()\n",
    "    print(f\"Average train loss in epoch {epoch + 1}: {train_loss/len(train_dataloader):.4f}\")\n",
    "\n",
    "    # Test phase\n",
    "    vae.eval()\n",
    "    test_loss = 0\n",
    "    with torch.no_grad(), tqdm(test_dataloader, unit=\"batch\") as tepoch:\n",
    "        for i, (x, _) in enumerate(tepoch):\n",
    "            tepoch.set_description(f\"Test phase of epoch {epoch+1}\")\n",
    "            # forward\n",
    "            x = x.view(-1, x_dim)\n",
    "            x = x.to(device)\n",
    "            x_reconst, mu, logvar = vae(x)\n",
    "            # Compute the reconstruction loss and the regularization term, KL divergence, which is q(x|z) || p(z)\n",
    "            reconst_loss = F.binary_cross_entropy(x_reconst, x, reduction='sum')\n",
    "            kl_div = 0.5 * torch.sum(mu.pow(2) + logvar.exp() - logvar - 1)\n",
    "            loss = reconst_loss + kl_div\n",
    "            tepoch.set_postfix(OrderedDict({\n",
    "                'reconst_loss': reconst_loss.item(),\n",
    "                'kl_div': kl_div.item(),\n",
    "                'loss': loss.item()\n",
    "            }))\n",
    "            test_loss += loss.item()\n",
    "    print(f\"Average test loss in epoch {epoch + 1}: {test_loss/len(test_dataloader):.4f}\")\n",
    "\n"
   ],
   "metadata": {
    "collapsed": false
   }
  },
  {
   "cell_type": "markdown",
   "source": [],
   "metadata": {
    "collapsed": false
   }
  }
 ],
 "metadata": {
  "kernelspec": {
   "display_name": "Python 3",
   "language": "python",
   "name": "python3"
  },
  "language_info": {
   "codemirror_mode": {
    "name": "ipython",
    "version": 2
   },
   "file_extension": ".py",
   "mimetype": "text/x-python",
   "name": "python",
   "nbconvert_exporter": "python",
   "pygments_lexer": "ipython2",
   "version": "2.7.6"
  }
 },
 "nbformat": 4,
 "nbformat_minor": 0
}
